{
 "cells": [
  {
   "cell_type": "code",
   "execution_count": null,
   "metadata": {},
   "outputs": [],
   "source": [
    "#| hide\n",
    "from sf_third_party_package.core import *"
   ]
  },
  {
   "cell_type": "markdown",
   "metadata": {},
   "source": [
    "# sf-third-party-package\n",
    "\n",
    "> third party package management example snowflake"
   ]
  },
  {
   "cell_type": "markdown",
   "metadata": {},
   "source": [
    "### Install sf_third_party_package in Development mode"
   ]
  },
  {
   "cell_type": "markdown",
   "metadata": {},
   "source": [
    "```sh\n",
    "# make sure sf_third_party_package package is installed in development mode\n",
    "$ pip install -e .\n",
    "\n",
    "# make changes under nbs/ directory\n",
    "# ...\n",
    "\n",
    "# compile to have changes apply to sf_third_party_package\n",
    "$ nbdev_prepare\n",
    "```"
   ]
  },
  {
   "cell_type": "markdown",
   "metadata": {},
   "source": [
    "## Usage"
   ]
  },
  {
   "cell_type": "markdown",
   "metadata": {},
   "source": [
    "### Installation"
   ]
  },
  {
   "cell_type": "markdown",
   "metadata": {},
   "source": [
    "Install latest from the GitHub [repository][repo]:\n",
    "\n",
    "```sh\n",
    "$ pip install git+https://github.com/Jeremy-Demlow/sf-third-party-package.git\n",
    "```"
   ]
  },
  {
   "cell_type": "markdown",
   "metadata": {},
   "source": [
    "## How to Step Up a Third Party Package"
   ]
  },
  {
   "cell_type": "markdown",
   "metadata": {},
   "source": [
    "## Initial Setup \n",
    "\n",
    "```bash\n",
    "conda create --name manage_package --override-channels -c https://repo.anaconda.com/pkgs/snowflake python=3.11 --y; conda activate manage_package;\n",
    "pip install -r requirements.txt\n",
    "```\n",
    "\n",
    "Fill extra-requirements.txt with the packages you want to install\n",
    "\n",
    "```bash\n",
    "langchain-anthropic\n",
    "langgraph\n",
    "```\n",
    "\n",
    "For example then run\n",
    "\n",
    "> Note: Please make sure you either add the default you want as well as the warehouse that you want to be using as well and make sure you set up snowflake cli.\n",
    "\n",
    "```bash\n",
    "\n",
    "bash download_and_stage_packages.sh;\n",
    "\n",
    "```\n",
    "\n",
    "The result of this will be the packages sitting in PYTHON_PACKAGE stage ready to be imported through snowflake.\n",
    "\n",
    "## Notebook Path\n",
    "\n",
    "### Environment.yml\n",
    "\n",
    "In the previous step we created a file at sf_nbs/enivronment.yml file looking like this\n",
    "\n",
    "```yaml\n",
    "name: app_environment\n",
    "channels:\n",
    "  - snowflake\n",
    "dependencies:\n",
    "  - anyio=*\n",
    "  - distro=*\n",
    "  - httpx=*\n",
    "  - jiter=*\n",
    "  - pydantic=*\n",
    "  - sniffio=*\n",
    "  - typing-extensions=*\n",
    "  - defusedxml=*\n",
    "  - langsmith=*\n",
    "  - tenacity=*\n",
    "  - jsonpatch=*\n",
    "  - pyyaml=*\n",
    "  - packaging=*\n",
    "  - langchain-core=*\n",
    "  - orjson=*\n",
    "```\n",
    "\n",
    "The reason for this is that these the the needed libraries to support this package. This might not be a perfect process, but this will get you 90% of the way there by the end of this tutorial you will be able to use langchain-anthropic and langgraph in snowflake notebooks or snowflake in general. This first iteration will show you how to do this in notebooks.\n",
    "\n",
    "### Create Git Integration and Push Notebook To Snowflake\n",
    "\n",
    "```\n",
    "bash create_notebooks_git_to_sf.sh \\\n",
    "  --repository sf-third-party-package \\\n",
    "  --secret_name my_pacakage_secret \\\n",
    "  --api_integration_name my_package_integration \\\n",
    "  --git_username $git_username \\\n",
    "  --git_password $git_password \\\n",
    "  --github_prefix \"https://github.com/Jeremy-Demlow\"\n",
    "```\n",
    "\n",
    "### Create Notebook\n",
    "\n",
    "Now the notebook URL will appear and you can click this and open it in the Snowsight UI. You can now run the notebook and it will be able to use the packages that you have installed. There is one more step and that is getting the pointed stages .zip files into the notebook to install. \n",
    "\n",
    "## Snowflake UDFs\n",
    "\n",
    "TODO: Write instructions and how to for this\n",
    "\n",
    "> NOTE: There is a Using third-party packages from PyPi PrPr that snowflake will be releasing shortly for UDFs that will make this much easier for UDFS and stored procedures.\n",
    "\n",
    "## Streamlit in Snowflake\n",
    "\n",
    "TODO: Write instructions and how to for this\n",
    "\n"
   ]
  },
  {
   "cell_type": "code",
   "execution_count": null,
   "metadata": {},
   "outputs": [],
   "source": []
  }
 ],
 "metadata": {
  "kernelspec": {
   "display_name": "Python 3 (ipykernel)",
   "language": "python",
   "name": "python3"
  },
  "language_info": {
   "codemirror_mode": {
    "name": "ipython",
    "version": 3
   },
   "file_extension": ".py",
   "mimetype": "text/x-python",
   "name": "python",
   "nbconvert_exporter": "python",
   "pygments_lexer": "ipython3",
   "version": "3.11.8"
  }
 },
 "nbformat": 4,
 "nbformat_minor": 4
}

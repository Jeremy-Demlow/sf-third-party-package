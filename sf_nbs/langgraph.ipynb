{
 "cells": [
  {
   "cell_type": "markdown",
   "metadata": {},
   "source": [
    "# LangGraph Notebook\n",
    "\n",
    "> Ensure you can install the required package for snowflake notebooks."
   ]
  },
  {
   "cell_type": "code",
   "execution_count": 15,
   "metadata": {},
   "outputs": [],
   "source": [
    "from langgraph.prebuilt import create_react_agent\n",
    "from langgraph.checkpoint.memory import MemorySaver\n",
    "from langchain_anthropic import ChatAnthropic\n",
    "from langchain_core.tools import tool"
   ]
  },
  {
   "cell_type": "markdown",
   "metadata": {},
   "source": [
    "Simply running this cell will show that the libraries are installed. If you see an error, please check the [Snowflake documentation](https://docs.snowflake.com/en/user-guide/notebooks-install-libraries.html) for installing libraries in notebooks."
   ]
  },
  {
   "cell_type": "code",
   "execution_count": 16,
   "metadata": {},
   "outputs": [],
   "source": [
    "# Define the tools for the agent to use\n",
    "@tool\n",
    "def search(query: str):\n",
    "    \"\"\"Call to surf the web.\"\"\"\n",
    "    # This is a placeholder, but don't tell the LLM that...\n",
    "    if \"sf\" in query.lower() or \"san francisco\" in query.lower():\n",
    "        return \"It's 60 degrees and foggy.\"\n",
    "    return \"It's 90 degrees and sunny.\""
   ]
  },
  {
   "cell_type": "markdown",
   "metadata": {},
   "source": [
    "Let's build a tool-calling ReAct-style agent that uses a search tool!\n",
    "\n",
    "```bash\n",
    "export ANTHROPIC_API_KEY=sk-...\n",
    "```\n",
    "Optionally, we can set up LangSmith for best-in-class observability.\n",
    "\n",
    "```bash\n",
    "export LANGSMITH_TRACING=true\n",
    "export LANGSMITH_API_KEY=lsv2_sk_.\n",
    "```"
   ]
  },
  {
   "cell_type": "markdown",
   "metadata": {},
   "source": [
    "This should fail as I don't have a ANTHROPIC_API_KEY"
   ]
  },
  {
   "cell_type": "code",
   "execution_count": 17,
   "metadata": {},
   "outputs": [],
   "source": [
    "def try_agent():\n",
    "    try:\n",
    "        tools = [search]\n",
    "        model = ChatAnthropic(model=\"claude-3-5-sonnet-latest\", temperature=0)\n",
    "\n",
    "        # Initialize memory to persist state between graph runs\n",
    "        checkpointer = MemorySaver()\n",
    "\n",
    "        app = create_react_agent(model, tools, checkpointer=checkpointer)\n",
    "\n",
    "        # Use the agent\n",
    "        final_state = app.invoke(\n",
    "            {\"messages\": [{\"role\": \"user\", \"content\": \"what is the weather in sf\"}]},\n",
    "            config={\"configurable\": {\"thread_id\": 42}}\n",
    "        )\n",
    "        final_state[\"messages\"][-1].content\n",
    "    except Exception as e:\n",
    "        print(e)\n",
    "        return e"
   ]
  },
  {
   "cell_type": "code",
   "execution_count": 19,
   "metadata": {},
   "outputs": [],
   "source": [
    "# try_agent()"
   ]
  },
  {
   "cell_type": "code",
   "execution_count": null,
   "metadata": {},
   "outputs": [],
   "source": []
  }
 ],
 "metadata": {
  "kernelspec": {
   "display_name": "ds_template",
   "language": "python",
   "name": "python3"
  },
  "language_info": {
   "codemirror_mode": {
    "name": "ipython",
    "version": 3
   },
   "file_extension": ".py",
   "mimetype": "text/x-python",
   "name": "python",
   "nbconvert_exporter": "python",
   "pygments_lexer": "ipython3",
   "version": "3.11.9"
  }
 },
 "nbformat": 4,
 "nbformat_minor": 2
}
